{
 "cells": [
  {
   "cell_type": "code",
   "execution_count": 15,
   "metadata": {},
   "outputs": [],
   "source": [
    "import uvicorn\n",
    "from fastapi import FastAPI, File, UploadFile, HTTPException  \n",
    "import requests\n",
    "import os\n",
    "from cv2 import imread, resize\n",
    "from azure.storage.blob import BlobServiceClient, BlobClient, ContainerClient\n",
    "import torch\n",
    "import torchvision.models as models\n",
    "from torchvision import transforms"
   ]
  },
  {
   "cell_type": "code",
   "execution_count": 16,
   "metadata": {},
   "outputs": [
    {
     "name": "stderr",
     "output_type": "stream",
     "text": [
      "c:\\Users\\vosco\\anaconda3\\envs\\cloud\\Lib\\site-packages\\torchvision\\models\\_utils.py:208: UserWarning: The parameter 'pretrained' is deprecated since 0.13 and may be removed in the future, please use 'weights' instead.\n",
      "  warnings.warn(\n",
      "c:\\Users\\vosco\\anaconda3\\envs\\cloud\\Lib\\site-packages\\torchvision\\models\\_utils.py:223: UserWarning: Arguments other than a weight enum or `None` for 'weights' are deprecated since 0.13 and may be removed in the future. The current behavior is equivalent to passing `weights=None`.\n",
      "  warnings.warn(msg)\n"
     ]
    },
    {
     "data": {
      "text/plain": [
       "<All keys matched successfully>"
      ]
     },
     "execution_count": 16,
     "metadata": {},
     "output_type": "execute_result"
    }
   ],
   "source": [
    "loaded_model = torch.load(f=\"./model/resnet50_1.pt\")\n",
    "model = models.resnet50(num_classes=2,pretrained=False)\n",
    "model.load_state_dict(loaded_model)"
   ]
  },
  {
   "cell_type": "code",
   "execution_count": 17,
   "metadata": {},
   "outputs": [],
   "source": [
    "def predict(img_url: str):\n",
    "    # try:\n",
    "        open('img.jpeg', 'wb').write(requests.get(img_url).content)\n",
    "        img = imread('img.jpeg')\n",
    "        transform = transforms.Compose([\n",
    "            transforms.ToTensor(),\n",
    "            transforms.Resize((256, 256), antialias=True)\n",
    "        ])\n",
    "\n",
    "        img_tensor = transform(img).unsqueeze(0)\n",
    "        model.eval()\n",
    "        # models.resnet50 = model\n",
    "        with torch.no_grad():\n",
    "            output = model(img_tensor)\n",
    "\n",
    "        _, predicted_idx = torch.max(output, 1)\n",
    "\n",
    "        dict_value = {'0': 'leo', '1': 'orion'}\n",
    "        class_predict = dict_value[str(int(predicted_idx > 0.5))]\n",
    "\n",
    "        probability = torch.softmax(output, dim=1)[0]\n",
    "        predicted_probability = probability[predicted_idx].item()\n",
    "\n",
    "        result = {\n",
    "            \"Prediction\": str(class_predict),\n",
    "            \"Probabilité\": str(predicted_probability)\n",
    "        }\n",
    "\n",
    "        return result"
   ]
  },
  {
   "cell_type": "code",
   "execution_count": 18,
   "metadata": {},
   "outputs": [
    {
     "data": {
      "text/plain": [
       "{'Prediction': 'leo', 'Probabilité': '0.5916783213615417'}"
      ]
     },
     "execution_count": 18,
     "metadata": {},
     "output_type": "execute_result"
    }
   ],
   "source": [
    "predict(\"https://github.com/heidisbk/MuspellheimGnistor/blob/main/constellations/leo/leo0.png?raw=true\")"
   ]
  }
 ],
 "metadata": {
  "kernelspec": {
   "display_name": "cloud",
   "language": "python",
   "name": "python3"
  },
  "language_info": {
   "codemirror_mode": {
    "name": "ipython",
    "version": 3
   },
   "file_extension": ".py",
   "mimetype": "text/x-python",
   "name": "python",
   "nbconvert_exporter": "python",
   "pygments_lexer": "ipython3",
   "version": "3.11.3"
  },
  "orig_nbformat": 4
 },
 "nbformat": 4,
 "nbformat_minor": 2
}
