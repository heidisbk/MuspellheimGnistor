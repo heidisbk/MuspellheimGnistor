{
 "cells": [
  {
   "attachments": {},
   "cell_type": "markdown",
   "metadata": {},
   "source": [
    "## Import librairies"
   ]
  },
  {
   "cell_type": "code",
   "execution_count": 2,
   "metadata": {},
   "outputs": [],
   "source": [
    "import numpy as np\n",
    "import cv2\n",
    "import os\n",
    "from PIL import Image\n",
    "import matplotlib.pyplot as plt\n",
    "import keras_ocr\n",
    "import math"
   ]
  },
  {
   "attachments": {},
   "cell_type": "markdown",
   "metadata": {},
   "source": [
    "## Rognage"
   ]
  },
  {
   "cell_type": "code",
   "execution_count": null,
   "metadata": {},
   "outputs": [],
   "source": [
    "image = cv2.imread(\"./constellations/leo/leo0.png\")"
   ]
  },
  {
   "cell_type": "code",
   "execution_count": null,
   "metadata": {},
   "outputs": [],
   "source": [
    "image.shape"
   ]
  },
  {
   "cell_type": "code",
   "execution_count": null,
   "metadata": {},
   "outputs": [],
   "source": [
    "try:\n",
    "    os.mkdir(\"preprocessed_1\")\n",
    "except:\n",
    "    pass"
   ]
  },
  {
   "cell_type": "code",
   "execution_count": null,
   "metadata": {},
   "outputs": [],
   "source": [
    "def crop_img(number_picture: int, constellation_name: str):\n",
    "    try:\n",
    "        os.mkdir(f\"preprocessed_1/{constellation_name}\")\n",
    "    except:\n",
    "        pass\n",
    "    y1 = 70\n",
    "    y2 = 75\n",
    "    x = 0\n",
    "    w = 2561\n",
    "    h = 1536\n",
    "    for x in range(0, number_picture, 1):\n",
    "        image = cv2.imread(\n",
    "            f\"./constellations/{constellation_name}/{constellation_name}{x}.png\"\n",
    "        )\n",
    "        crop = image[y1 : -y2 + h, x : x + w]\n",
    "        cv2.imwrite(\n",
    "            f\"./preprocessed_1/{constellation_name}/{constellation_name}{x}.png\", crop\n",
    "        )"
   ]
  },
  {
   "cell_type": "code",
   "execution_count": null,
   "metadata": {},
   "outputs": [],
   "source": [
    "crop_img(46, \"leo\")"
   ]
  },
  {
   "cell_type": "code",
   "execution_count": null,
   "metadata": {},
   "outputs": [],
   "source": [
    "crop_img(46, \"orion\")"
   ]
  },
  {
   "attachments": {},
   "cell_type": "markdown",
   "metadata": {},
   "source": [
    "### Informations sur les coordonnées choisis pour rogner les images   \n",
    "   \n",
    "y1 représente la valeur comprise entre la valeur maximale de l'axe x,y et la nouvelle valeur maximale de l'axe x,y.    \n",
    "y1 permet de rogner la hauteur haute de l'image.\n",
    "   \n",
    "y2 représente la valeur qui se situe entre l'origine de l'axe x,y et la valeur de la nouvelle origine de l'axe x,y.   \n",
    "y2 permet de rogner la hauteur basse de l'image.   \n",
    "   \n",
    "\n",
    "Pour connaitre les nouvelles valeurs souhaitées (y1 et y2), il a fallu ouvrir une image du dataset sous le logiciel Paint.  \n",
    "Une fois ouverte, il a fallu activer le quadrillage et utiliser l'échelle pour connaître le nombre de pixels compris entre les valeurs d'origines et les valeurs souhaitées.  \n",
    "Les images étant toutes de la même dimension, il a ensuite fallu généraliser un unique rognage pour toutes les images."
   ]
  },
  {
   "attachments": {},
   "cell_type": "markdown",
   "metadata": {},
   "source": [
    "## Suppression du texte + rezise"
   ]
  },
  {
   "cell_type": "code",
   "execution_count": null,
   "metadata": {},
   "outputs": [],
   "source": [
    "try:\n",
    "    os.mkdir(\"preprocessed_1\")\n",
    "except:\n",
    "    pass"
   ]
  },
  {
   "cell_type": "code",
   "execution_count": null,
   "metadata": {},
   "outputs": [],
   "source": [
    "def midpoint(x1, y1, x2, y2):\n",
    "    x_mid = int((x1 + x2) / 2)\n",
    "    y_mid = int((y1 + y2) / 2)\n",
    "    return (x_mid, y_mid)\n",
    "\n",
    "\n",
    "pipeline = keras_ocr.pipeline.Pipeline()\n",
    "\n",
    "\n",
    "def inpaint_text(pipeline, constellation_name: str, number_picture: int):\n",
    "    try:\n",
    "        os.mkdir(f\"preprocessed_1/{constellation_name}\")\n",
    "    except:\n",
    "        pass\n",
    "    # read image\n",
    "    for x in range(0, number_picture, 1):\n",
    "        img = keras_ocr.tools.read(\n",
    "            f\"./preprocessed_1/{constellation_name}/{constellation_name}{x}.png\"\n",
    "        )\n",
    "        # generate (word, box) tuples\n",
    "        prediction_groups = pipeline.recognize([img])\n",
    "        mask = np.zeros(img.shape[:2], dtype=\"uint8\")\n",
    "        for box in prediction_groups[0]:\n",
    "            x0, y0 = box[1][0]\n",
    "            x1, y1 = box[1][1]\n",
    "            x2, y2 = box[1][2]\n",
    "            x3, y3 = box[1][3]\n",
    "\n",
    "            x_mid0, y_mid0 = midpoint(x1, y1, x2, y2)\n",
    "            x_mid1, y_mi1 = midpoint(x0, y0, x3, y3)\n",
    "\n",
    "            thickness = int(math.sqrt((x2 - x1) ** 2 + (y2 - y1) ** 2))\n",
    "\n",
    "            cv2.line(mask, (x_mid0, y_mid0), (x_mid1, y_mi1), 255, thickness)\n",
    "            img = cv2.inpaint(img, mask, 7, cv2.INPAINT_NS)\n",
    "            # img_resize = cv2.resize(img, dsize=(780,423))\n",
    "            img_resize = cv2.resize(img, dsize=(256, 256))\n",
    "        cv2.imwrite(\n",
    "            f\"./preprocessed_1/{constellation_name}/{constellation_name}{x}.png\",\n",
    "            cv2.cvtColor(img_resize, cv2.COLOR_RGB2BGR),\n",
    "        )"
   ]
  },
  {
   "cell_type": "code",
   "execution_count": null,
   "metadata": {},
   "outputs": [],
   "source": [
    "inpaint_text(pipeline, \"leo\", 46)"
   ]
  },
  {
   "cell_type": "code",
   "execution_count": null,
   "metadata": {},
   "outputs": [],
   "source": [
    "inpaint_text(pipeline, \"orion\", 46)"
   ]
  },
  {
   "attachments": {},
   "cell_type": "markdown",
   "metadata": {},
   "source": [
    "J'ai essayé d'utiliser tesseract mais la librairie est compliquée à installer (setting de path non mentionné, fichiers manquants) et par manque de temps, je vais utiliser keras-ocr qui ne pose pas de problème lors de l'installation car appartenant au framework keras et qui possède un tuto permettant de supprimer des mots sur une image."
   ]
  },
  {
   "attachments": {},
   "cell_type": "markdown",
   "metadata": {},
   "source": [
    "## Convertion en noir et blanc"
   ]
  },
  {
   "cell_type": "code",
   "execution_count": 37,
   "metadata": {},
   "outputs": [],
   "source": [
    "try:\n",
    "    os.mkdir(\"preprocessed_2\")\n",
    "except:\n",
    "    pass"
   ]
  },
  {
   "cell_type": "code",
   "execution_count": 38,
   "metadata": {},
   "outputs": [],
   "source": [
    "def convert2gray(constellation_name: str, number_picture: int):\n",
    "    try:\n",
    "        os.mkdir(f\"preprocessed_2/{constellation_name}\")\n",
    "    except:\n",
    "        pass\n",
    "    # read image\n",
    "    for x in range(0, number_picture, 1):\n",
    "        originalImage = cv2.imread(\n",
    "            f\"./preprocessed_1/{constellation_name}/{constellation_name}{x}.png\"\n",
    "        )\n",
    "        grayImage = cv2.cvtColor(originalImage, cv2.COLOR_BGR2GRAY)\n",
    "        cv2.imwrite(\n",
    "            f\"./preprocessed_2/{constellation_name}/{constellation_name}{x}.png\",\n",
    "            grayImage,\n",
    "        )"
   ]
  },
  {
   "cell_type": "code",
   "execution_count": 39,
   "metadata": {},
   "outputs": [],
   "source": [
    "convert2gray(\"leo\", 46)"
   ]
  },
  {
   "cell_type": "code",
   "execution_count": 40,
   "metadata": {},
   "outputs": [],
   "source": [
    "convert2gray(\"orion\", 46)"
   ]
  },
  {
   "attachments": {},
   "cell_type": "markdown",
   "metadata": {},
   "source": [
    "## Star extraction"
   ]
  },
  {
   "cell_type": "code",
   "execution_count": 160,
   "metadata": {},
   "outputs": [],
   "source": [
    "try:\n",
    "    os.mkdir(\"preprocessed_3\")\n",
    "except:\n",
    "    pass"
   ]
  },
  {
   "cell_type": "code",
   "execution_count": 161,
   "metadata": {},
   "outputs": [],
   "source": [
    "def extract_star(constellation_name: str, number_picture: int):\n",
    "    try:\n",
    "        os.mkdir(f\"preprocessed_3/{constellation_name}\")\n",
    "    except:\n",
    "        pass\n",
    "\n",
    "    for x in range(0, number_picture, 1):\n",
    "        # reading image\n",
    "        img = cv2.imread(\n",
    "            f\"./preprocessed_1/{constellation_name}/{constellation_name}{x}.png\"\n",
    "        )\n",
    "\n",
    "        # converting image into grayscale image\n",
    "        gray = cv2.cvtColor(img, cv2.COLOR_BGR2GRAY)\n",
    "\n",
    "        # setting threshold of gray image\n",
    "        _, threshold = cv2.threshold(gray, 127, 255, cv2.THRESH_BINARY)\n",
    "\n",
    "        # find contours\n",
    "        contours, _ = cv2.findContours(\n",
    "            threshold, cv2.RETR_TREE, cv2.CHAIN_APPROX_SIMPLE\n",
    "        )\n",
    "\n",
    "        # create mask\n",
    "        mask = np.zeros(img.shape[:2], np.uint8)\n",
    "\n",
    "        # draw contours\n",
    "        cv2.drawContours(mask, contours, -1, 255, -1)\n",
    "\n",
    "        # crop mask\n",
    "        dst = cv2.bitwise_and(img, img, mask=mask)\n",
    "        cv2.imwrite(\n",
    "            f\"./preprocessed_3/{constellation_name}/{constellation_name}{x}.png\", dst\n",
    "        )"
   ]
  },
  {
   "cell_type": "code",
   "execution_count": 162,
   "metadata": {},
   "outputs": [],
   "source": [
    "extract_star(\"leo\", 46)"
   ]
  },
  {
   "cell_type": "code",
   "execution_count": 163,
   "metadata": {},
   "outputs": [],
   "source": [
    "extract_star(\"orion\", 46)"
   ]
  }
 ],
 "metadata": {
  "kernelspec": {
   "display_name": "image_manip",
   "language": "python",
   "name": "python3"
  },
  "language_info": {
   "codemirror_mode": {
    "name": "ipython",
    "version": 3
   },
   "file_extension": ".py",
   "mimetype": "text/x-python",
   "name": "python",
   "nbconvert_exporter": "python",
   "pygments_lexer": "ipython3",
   "version": "3.11.3"
  },
  "orig_nbformat": 4
 },
 "nbformat": 4,
 "nbformat_minor": 2
}
