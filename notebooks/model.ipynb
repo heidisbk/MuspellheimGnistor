{
 "cells": [
  {
   "cell_type": "code",
   "execution_count": 1,
   "id": "5aef90ef",
   "metadata": {},
   "outputs": [],
   "source": [
    "import torch\n",
    "import torchvision\n",
    "from torchvision.io import read_image\n",
    "import torchvision.transforms as T"
   ]
  },
  {
   "cell_type": "code",
   "execution_count": 2,
   "id": "c3d7d474",
   "metadata": {},
   "outputs": [],
   "source": [
    "pic = read_image(\"../MuspellheimGnistor/constellations/leo/leo0.png\")"
   ]
  },
  {
   "cell_type": "code",
   "execution_count": 3,
   "id": "a33e55b5",
   "metadata": {},
   "outputs": [],
   "source": [
    "PIL_img = T.ToPILImage()(pic)"
   ]
  },
  {
   "cell_type": "code",
   "execution_count": 5,
   "id": "70696e5f",
   "metadata": {},
   "outputs": [],
   "source": [
    "PIL_img.show()"
   ]
  },
  {
   "cell_type": "code",
   "execution_count": 1,
   "id": "b736fcbe",
   "metadata": {},
   "outputs": [],
   "source": [
    "import torch.nn as nn\n",
    "import torch.nn.functional as F\n",
    "import torch.optim as optim"
   ]
  },
  {
   "cell_type": "code",
   "execution_count": 2,
   "id": "b4887907",
   "metadata": {},
   "outputs": [],
   "source": [
    "from torchvision import datasets, transforms\n",
    "from torch.utils import data"
   ]
  },
  {
   "cell_type": "code",
   "execution_count": 5,
   "id": "ed55a58b",
   "metadata": {},
   "outputs": [],
   "source": [
    "class NeuralNet(nn.Module):\n",
    "    def __init__(self):\n",
    "        super(NeuralNet, self).__init__()\n",
    "        self.conv1 = nn.Conv2d(\n",
    "            3, 32, 3, 1\n",
    "        )  # (input channels, number of filters, number of output channels, stride)\n",
    "        self.conv2 = nn.Conv2d(32, 64, 3, 1)\n",
    "        self.fc1 = nn.Linear(9216, 128)\n",
    "        self.fc2 = nn.Linear(128, 10)"
   ]
  }
 ],
 "metadata": {
  "kernelspec": {
   "display_name": "Python 3 (ipykernel)",
   "language": "python",
   "name": "python3"
  },
  "language_info": {
   "codemirror_mode": {
    "name": "ipython",
    "version": 3
   },
   "file_extension": ".py",
   "mimetype": "text/x-python",
   "name": "python",
   "nbconvert_exporter": "python",
   "pygments_lexer": "ipython3",
   "version": "3.10.1"
  }
 },
 "nbformat": 4,
 "nbformat_minor": 5
}
