{
 "cells": [
  {
   "cell_type": "code",
   "execution_count": 3,
   "metadata": {
    "colab": {
     "base_uri": "https://localhost:8080/",
     "height": 398
    },
    "executionInfo": {
     "elapsed": 234,
     "status": "error",
     "timestamp": 1677832650080,
     "user": {
      "displayName": "Vosco Yagura",
      "userId": "07323686365214629730"
     },
     "user_tz": -60
    },
    "id": "6TMxwmktinzC",
    "outputId": "e088e76f-b2d1-4ebc-dec8-428b01857d82"
   },
   "outputs": [],
   "source": [
    "from selenium import webdriver\n",
    "from selenium.webdriver.common.by import By\n",
    "from selenium.webdriver.common.keys import Keys\n",
    "from selenium.webdriver.common.action_chains import ActionChains\n",
    "from time import sleep\n",
    "import pyautogui\n",
    "import os"
   ]
  },
  {
   "cell_type": "code",
   "execution_count": 10,
   "metadata": {},
   "outputs": [
    {
     "name": "stderr",
     "output_type": "stream",
     "text": [
      "C:\\Users\\Heidi\\AppData\\Local\\Temp\\ipykernel_63372\\2980079263.py:1: DeprecationWarning: executable_path has been deprecated, please pass in a Service object\n",
      "  driver = webdriver.Chrome(\"chromedriver.exe\")   # msedgedriver.exe for edge\n"
     ]
    }
   ],
   "source": [
    "driver = webdriver.Chrome(\"chromedriver.exe\")   # msedgedriver.exe for edge\n",
    "driver.get(\"https://stellarium-web.org/\")"
   ]
  },
  {
   "cell_type": "code",
   "execution_count": 12,
   "metadata": {},
   "outputs": [],
   "source": [
    "## enter research\n",
    "keys = 'orion'\n",
    "x = 100\n",
    "\n",
    "driver.find_element(By.ID,'input-33').send_keys(keys)\n",
    "sleep(1)"
   ]
  },
  {
   "cell_type": "code",
   "execution_count": 13,
   "metadata": {},
   "outputs": [],
   "source": [
    "#click on first occurence in list item\n",
    "driver.find_elements(By.CLASS_NAME,'v-list-item__title'.replace(' ','.'))[5].click()\n",
    "sleep(1)"
   ]
  },
  {
   "cell_type": "code",
   "execution_count": 14,
   "metadata": {},
   "outputs": [],
   "source": [
    "# close left panel\n",
    "driver.find_element(By.CLASS_NAME,'v-btn__content').click()\n",
    "sleep(1)"
   ]
  },
  {
   "cell_type": "code",
   "execution_count": 15,
   "metadata": {},
   "outputs": [],
   "source": [
    "# agree to cookies\n",
    "driver.find_element(\"xpath\",\"//span[text()='I Agree']\").click()\n",
    "sleep(1)"
   ]
  },
  {
   "cell_type": "code",
   "execution_count": 16,
   "metadata": {},
   "outputs": [],
   "source": [
    "# fullscreen \n",
    "driver.find_element(\"xpath\",\"//img[@alt='Fullscreen Button']\").click()\n",
    "sleep(1)"
   ]
  },
  {
   "cell_type": "code",
   "execution_count": 17,
   "metadata": {},
   "outputs": [],
   "source": [
    "# close constellation panel\n",
    "driver.find_element(\"xpath\",\"//button[@class='v-btn v-btn--icon v-btn--round theme--dark v-size--default']\").click()\n",
    "sleep(1)"
   ]
  },
  {
   "cell_type": "code",
   "execution_count": 18,
   "metadata": {},
   "outputs": [],
   "source": [
    "# activate constellations button\n",
    "driver.find_element(\"xpath\",\"//img[@alt='Constellations Button']\").click()"
   ]
  },
  {
   "cell_type": "code",
   "execution_count": null,
   "metadata": {},
   "outputs": [],
   "source": [
    "# define iterator for picture\n",
    "i=0"
   ]
  },
  {
   "cell_type": "code",
   "execution_count": 25,
   "metadata": {
    "id": "BUgPNaARjFZf"
   },
   "outputs": [],
   "source": [
    "def save_true(keys,x):\n",
    "    \n",
    "    try:\n",
    "        os.mkdir(f'../constellations_images/{keys}')\n",
    "    except:\n",
    "        pass\n",
    "    \n",
    "    # connect to website\n",
    "    driver = webdriver.Chrome(\"chromedriver.exe\")\n",
    "    driver.get(\"https://stellarium-web.org/\")\n",
    "    sleep(1)\n",
    "    \n",
    "    # remove landscape\n",
    "    driver.find_element(\"xpath\",\"//img[@alt='Landscape Button']\").click()\n",
    "    sleep(1)\n",
    "\n",
    "    # remove object name\n",
    "    driver.find_element(\"xpath\",\"//img[@alt='Deep Sky Objects Button']\").click()\n",
    "    sleep(1)\n",
    "    \n",
    "    ## enter research\n",
    "    driver.find_element(By.ID,'input-33').send_keys(keys)\n",
    "    sleep(1)\n",
    "    \n",
    "    #click on first occurence in list item\n",
    "    driver.find_elements(By.CLASS_NAME,'v-list-item__title'.replace(' ','.'))[5].click()\n",
    "    sleep(1)\n",
    "    \n",
    "    # close left panel\n",
    "    driver.find_element(By.CLASS_NAME,'v-btn__content').click()\n",
    "    sleep(1)\n",
    "    \n",
    "    # agree to cookies\n",
    "    driver.find_element(\"xpath\",\"//span[text()='I Agree']\").click()\n",
    "    sleep(3)\n",
    "    \n",
    "    # fullscreen \n",
    "    driver.find_element(\"xpath\",\"//img[@alt='Fullscreen Button']\").click()\n",
    "    sleep(1)\n",
    "    \n",
    "    # define iterator for picture\n",
    "    i=0\n",
    "    \n",
    "    for z in range(0, x, 5):\n",
    "        \n",
    "        # scroll wheel \n",
    "        pyautogui.scroll(z, x=1000, y=1000)\n",
    "        sleep(1)\n",
    "        \n",
    "        # save screen \n",
    "        driver.save_screenshot(f'../constellations_images/{keys}/{keys}{i}.png')\n",
    "        i+=1\n",
    "    \n",
    "     # save images witout constellation art and line\n",
    "    driver.find_element(\"xpath\",\"//button[@class='v-btn v-btn--icon v-btn--round theme--dark v-size--default']\").click()\n",
    "    print(i)\n",
    "    \n",
    "    for z in range(0, x, 5):\n",
    "        \n",
    "        # scroll wheel \n",
    "        pyautogui.scroll(-z, x=1000, y=1000)\n",
    "        sleep(1)\n",
    "        \n",
    "        # save screen \n",
    "        driver.save_screenshot(f'../constellations_images/{keys}/{keys}{i}.png')\n",
    "        i+=1\n",
    "    print(i)\n",
    "    \n",
    "   # save images with constellation line\n",
    "    driver.find_element(\"xpath\",\"//img[@alt='Constellations Button']\").click()\n",
    "    \n",
    "    for z in range(0, x, 5):\n",
    "        \n",
    "        # scroll wheel \n",
    "        pyautogui.scroll(z, x=1000, y=1000)\n",
    "        sleep(1)\n",
    "        \n",
    "        # save screen \n",
    "        driver.save_screenshot(f'../constellations_images/{keys}/{keys}{i}.png')\n",
    "        i+=1\n",
    "    print(i)"
   ]
  },
  {
   "cell_type": "code",
   "execution_count": 26,
   "metadata": {
    "scrolled": true
   },
   "outputs": [
    {
     "name": "stderr",
     "output_type": "stream",
     "text": [
      "C:\\Users\\Heidi\\AppData\\Local\\Temp\\ipykernel_63372\\1082221427.py:9: DeprecationWarning: executable_path has been deprecated, please pass in a Service object\n",
      "  driver = webdriver.Chrome(\"chromedriver.exe\")\n"
     ]
    },
    {
     "ename": "KeyboardInterrupt",
     "evalue": "",
     "output_type": "error",
     "traceback": [
      "\u001b[1;31m---------------------------------------------------------------------------\u001b[0m",
      "\u001b[1;31mKeyboardInterrupt\u001b[0m                         Traceback (most recent call last)",
      "Cell \u001b[1;32mIn[26], line 1\u001b[0m\n\u001b[1;32m----> 1\u001b[0m \u001b[43msave_true\u001b[49m\u001b[43m(\u001b[49m\u001b[38;5;124;43m'\u001b[39;49m\u001b[38;5;124;43morion\u001b[39;49m\u001b[38;5;124;43m'\u001b[39;49m\u001b[43m,\u001b[49m\u001b[43m \u001b[49m\u001b[38;5;241;43m100\u001b[39;49m\u001b[43m)\u001b[49m\n",
      "Cell \u001b[1;32mIn[25], line 23\u001b[0m, in \u001b[0;36msave_true\u001b[1;34m(keys, x)\u001b[0m\n\u001b[0;32m     21\u001b[0m \u001b[38;5;66;03m## enter research\u001b[39;00m\n\u001b[0;32m     22\u001b[0m driver\u001b[38;5;241m.\u001b[39mfind_element(By\u001b[38;5;241m.\u001b[39mID,\u001b[38;5;124m'\u001b[39m\u001b[38;5;124minput-33\u001b[39m\u001b[38;5;124m'\u001b[39m)\u001b[38;5;241m.\u001b[39msend_keys(keys)\n\u001b[1;32m---> 23\u001b[0m \u001b[43msleep\u001b[49m\u001b[43m(\u001b[49m\u001b[38;5;241;43m1\u001b[39;49m\u001b[43m)\u001b[49m\n\u001b[0;32m     25\u001b[0m \u001b[38;5;66;03m#click on first occurence in list item\u001b[39;00m\n\u001b[0;32m     26\u001b[0m driver\u001b[38;5;241m.\u001b[39mfind_elements(By\u001b[38;5;241m.\u001b[39mCLASS_NAME,\u001b[38;5;124m'\u001b[39m\u001b[38;5;124mv-list-item__title\u001b[39m\u001b[38;5;124m'\u001b[39m\u001b[38;5;241m.\u001b[39mreplace(\u001b[38;5;124m'\u001b[39m\u001b[38;5;124m \u001b[39m\u001b[38;5;124m'\u001b[39m,\u001b[38;5;124m'\u001b[39m\u001b[38;5;124m.\u001b[39m\u001b[38;5;124m'\u001b[39m))[\u001b[38;5;241m5\u001b[39m]\u001b[38;5;241m.\u001b[39mclick()\n",
      "\u001b[1;31mKeyboardInterrupt\u001b[0m: "
     ]
    }
   ],
   "source": [
    "save_true('orion', 100)"
   ]
  },
  {
   "cell_type": "code",
   "execution_count": null,
   "metadata": {},
   "outputs": [],
   "source": []
  }
 ],
 "metadata": {
  "colab": {
   "authorship_tag": "ABX9TyMgRdampb2JUpumoWSnTdcT",
   "mount_file_id": "1wcU1bJlsWQPLoznezEDLxJNWbJXunSWJ",
   "provenance": []
  },
  "kernelspec": {
   "display_name": "Python 3 (ipykernel)",
   "language": "python",
   "name": "python3"
  },
  "language_info": {
   "codemirror_mode": {
    "name": "ipython",
    "version": 3
   },
   "file_extension": ".py",
   "mimetype": "text/x-python",
   "name": "python",
   "nbconvert_exporter": "python",
   "pygments_lexer": "ipython3",
   "version": "3.10.1"
  }
 },
 "nbformat": 4,
 "nbformat_minor": 1
}
