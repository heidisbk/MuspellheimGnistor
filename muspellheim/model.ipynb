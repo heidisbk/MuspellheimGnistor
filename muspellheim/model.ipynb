{
 "cells": [
  {
   "cell_type": "markdown",
   "id": "b174ef5f",
   "metadata": {},
   "source": [
    "### Import libraries"
   ]
  },
  {
   "cell_type": "code",
   "execution_count": 16,
   "id": "eb2bb2f1",
   "metadata": {},
   "outputs": [],
   "source": [
    "import torch\n",
    "import torch.nn as nn\n",
    "import torch.optim as optim\n",
    "from torch.utils.data import DataLoader\n",
    "import torchvision\n",
    "import torchvision.datasets as datasets\n",
    "import torchvision.transforms as transforms\n",
    "from PIL import Image\n",
    "import numpy as np\n",
    "import matplotlib.pyplot as plt\n",
    "\n",
    "import torchvision.models as models"
   ]
  },
  {
   "cell_type": "markdown",
   "id": "6ceba5e7",
   "metadata": {},
   "source": [
    "### Model"
   ]
  },
  {
   "cell_type": "code",
   "execution_count": 7,
   "id": "23a1c0a5",
   "metadata": {},
   "outputs": [
    {
     "name": "stderr",
     "output_type": "stream",
     "text": [
      "C:\\Users\\Heidi\\AppData\\Local\\Programs\\Python\\Python310\\lib\\site-packages\\torchvision\\models\\_utils.py:208: UserWarning: The parameter 'pretrained' is deprecated since 0.13 and may be removed in the future, please use 'weights' instead.\n",
      "  warnings.warn(\n",
      "C:\\Users\\Heidi\\AppData\\Local\\Programs\\Python\\Python310\\lib\\site-packages\\torchvision\\models\\_utils.py:223: UserWarning: Arguments other than a weight enum or `None` for 'weights' are deprecated since 0.13 and may be removed in the future. The current behavior is equivalent to passing `weights=ResNet50_Weights.IMAGENET1K_V1`. You can also use `weights=ResNet50_Weights.DEFAULT` to get the most up-to-date weights.\n",
      "  warnings.warn(msg)\n",
      "Downloading: \"https://download.pytorch.org/models/resnet50-0676ba61.pth\" to C:\\Users\\Heidi/.cache\\torch\\hub\\checkpoints\\resnet50-0676ba61.pth\n",
      "100%|█████████████████████████████████████████████████████████████| 97.8M/97.8M [00:02<00:00, 47.0MB/s]\n"
     ]
    }
   ],
   "source": [
    "resnet = models.resnet50(pretrained=True)"
   ]
  },
  {
   "cell_type": "markdown",
   "id": "7b7acb12",
   "metadata": {},
   "source": [
    "### Model parameters"
   ]
  },
  {
   "cell_type": "code",
   "execution_count": 8,
   "id": "f4ff22bf",
   "metadata": {},
   "outputs": [],
   "source": [
    "num_classes = 2  # classes\n",
    "num_features = resnet.fc.in_features\n",
    "resnet.fc = nn.Linear(num_features, num_classes)"
   ]
  },
  {
   "cell_type": "markdown",
   "id": "ff3d4c1b",
   "metadata": {},
   "source": [
    "### Hyperparameters"
   ]
  },
  {
   "cell_type": "code",
   "execution_count": 11,
   "id": "dfd80e56",
   "metadata": {},
   "outputs": [],
   "source": [
    "learning_rate = 0.001\n",
    "criterion = nn.CrossEntropyLoss()\n",
    "optimizer = torch.optim.SGD(resnet.parameters(), lr=learning_rate, momentum=0.9)"
   ]
  },
  {
   "cell_type": "markdown",
   "id": "48d50f4f",
   "metadata": {},
   "source": [
    "### Transform Data"
   ]
  },
  {
   "cell_type": "code",
   "execution_count": 24,
   "id": "51618cdf",
   "metadata": {},
   "outputs": [],
   "source": [
    "transform = transforms.Compose(\n",
    "    [\n",
    "        transforms.Resize((256, 256)),\n",
    "        transforms.ToTensor(),\n",
    "    ]\n",
    ")"
   ]
  },
  {
   "cell_type": "markdown",
   "id": "1778f92e",
   "metadata": {},
   "source": [
    "### Load Data"
   ]
  },
  {
   "cell_type": "code",
   "execution_count": 25,
   "id": "f3e3d502",
   "metadata": {},
   "outputs": [],
   "source": [
    "data_dir = \"../constellations_preprocessed/\"\n",
    "dataset = datasets.ImageFolder(data_dir, transform=transform)"
   ]
  },
  {
   "cell_type": "code",
   "execution_count": 26,
   "id": "a94cb796",
   "metadata": {},
   "outputs": [
    {
     "data": {
      "text/plain": [
       "Dataset ImageFolder\n",
       "    Number of datapoints: 92\n",
       "    Root location: ../constellations_preprocessed/\n",
       "    StandardTransform\n",
       "Transform: Compose(\n",
       "               Resize(size=(256, 256), interpolation=bilinear, max_size=None, antialias=warn)\n",
       "               ToTensor()\n",
       "           )"
      ]
     },
     "execution_count": 26,
     "metadata": {},
     "output_type": "execute_result"
    }
   ],
   "source": [
    "dataset"
   ]
  },
  {
   "cell_type": "markdown",
   "id": "181a03a8",
   "metadata": {},
   "source": [
    "### DataLoader"
   ]
  },
  {
   "cell_type": "code",
   "execution_count": 27,
   "id": "09912cd9",
   "metadata": {},
   "outputs": [],
   "source": [
    "batch_size = 32\n",
    "data_loader = DataLoader(\n",
    "    dataset, batch_size=batch_size, shuffle=True, num_workers=4, pin_memory=True\n",
    ")"
   ]
  },
  {
   "cell_type": "markdown",
   "id": "e64ca9b7",
   "metadata": {},
   "source": [
    "### Training"
   ]
  },
  {
   "cell_type": "code",
   "execution_count": 34,
   "id": "e74e68b2",
   "metadata": {},
   "outputs": [
    {
     "name": "stdout",
     "output_type": "stream",
     "text": [
      "Epoch 1/10 - Loss: 0.0000\n",
      "Epoch 1/10 - Loss: 0.0000\n",
      "Epoch 1/10 - Loss: 0.0000\n",
      "Epoch 2/10 - Loss: 0.0000\n",
      "Epoch 2/10 - Loss: 0.0000\n",
      "Epoch 2/10 - Loss: 0.0000\n",
      "Epoch 3/10 - Loss: 0.0000\n",
      "Epoch 3/10 - Loss: 0.0000\n",
      "Epoch 3/10 - Loss: 0.0000\n",
      "Epoch 4/10 - Loss: 0.0000\n",
      "Epoch 4/10 - Loss: 0.0000\n",
      "Epoch 4/10 - Loss: 0.0000\n",
      "Epoch 5/10 - Loss: 0.0000\n",
      "Epoch 5/10 - Loss: 0.0000\n",
      "Epoch 5/10 - Loss: 0.0000\n",
      "Epoch 6/10 - Loss: 0.0000\n",
      "Epoch 6/10 - Loss: 0.0000\n",
      "Epoch 6/10 - Loss: 0.0000\n",
      "Epoch 7/10 - Loss: 0.0000\n",
      "Epoch 7/10 - Loss: 0.0000\n",
      "Epoch 7/10 - Loss: 0.0000\n",
      "Epoch 8/10 - Loss: 0.0000\n",
      "Epoch 8/10 - Loss: 0.0000\n",
      "Epoch 8/10 - Loss: 0.0000\n",
      "Epoch 9/10 - Loss: 0.0000\n",
      "Epoch 9/10 - Loss: 0.0000\n",
      "Epoch 9/10 - Loss: 0.0000\n",
      "Epoch 10/10 - Loss: 0.0000\n",
      "Epoch 10/10 - Loss: 0.0000\n",
      "Epoch 10/10 - Loss: 0.0000\n"
     ]
    }
   ],
   "source": [
    "num_epochs = 10\n",
    "\n",
    "for epoch in range(num_epochs):\n",
    "    running_loss = 0.0\n",
    "    for images, labels in data_loader:\n",
    "        # Remise à zéro des gradients\n",
    "        optimizer.zero_grad()\n",
    "\n",
    "        # Passage avant du modèle\n",
    "        outputs = resnet(images)\n",
    "\n",
    "        # Calcul de la perte\n",
    "        loss = criterion(outputs, labels)\n",
    "\n",
    "        # Backpropagation & weights update\n",
    "        loss.backward()\n",
    "        optimizer.step()\n",
    "\n",
    "        # Affichage des informations d'entraînement (optionnel)\n",
    "        # if (batch_idx + 1) % log_interval == 0:\n",
    "        # print(f'Epoch [{epoch+1}/{num_epochs}], Step [{batch_idx+1}/{len(data_loader)}], Loss: {loss.item():.4f}')\n",
    "        epoch_loss = running_loss / len(data_loader)\n",
    "        print(f\"Epoch {epoch+1}/{num_epochs} - Loss: {epoch_loss:.4f}\")\n",
    "\n",
    "    # Évaluation du modèle sur les données de validation (optionnel)\n",
    "    # with torch.no_grad():"
   ]
  },
  {
   "cell_type": "markdown",
   "id": "4ed7133e",
   "metadata": {},
   "source": [
    "### Save Model"
   ]
  },
  {
   "cell_type": "code",
   "execution_count": 36,
   "id": "1dc4b278",
   "metadata": {},
   "outputs": [],
   "source": [
    "torch.save(resnet.state_dict(), \"./resnet50_1.pt\")"
   ]
  }
 ],
 "metadata": {
  "kernelspec": {
   "display_name": "Python 3 (ipykernel)",
   "language": "python",
   "name": "python3"
  },
  "language_info": {
   "codemirror_mode": {
    "name": "ipython",
    "version": 3
   },
   "file_extension": ".py",
   "mimetype": "text/x-python",
   "name": "python",
   "nbconvert_exporter": "python",
   "pygments_lexer": "ipython3",
   "version": "3.10.1"
  }
 },
 "nbformat": 4,
 "nbformat_minor": 5
}
