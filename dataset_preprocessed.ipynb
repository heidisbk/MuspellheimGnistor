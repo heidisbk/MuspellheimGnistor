{
 "cells": [
  {
   "attachments": {},
   "cell_type": "markdown",
   "metadata": {},
   "source": [
    "## Import librairies"
   ]
  },
  {
   "cell_type": "code",
   "execution_count": 16,
   "metadata": {},
   "outputs": [],
   "source": [
    "import numpy as np\n",
    "import cv2\n",
    "import os\n",
    "from PIL import Image\n",
    "import matplotlib.pyplot as plt\n",
    "import keras_ocr\n",
    "import math"
   ]
  },
  {
   "attachments": {},
   "cell_type": "markdown",
   "metadata": {},
   "source": [
    "## Rognage"
   ]
  },
  {
   "cell_type": "code",
   "execution_count": 192,
   "metadata": {},
   "outputs": [],
   "source": [
    "image = cv2.imread('leo0.png')"
   ]
  },
  {
   "cell_type": "code",
   "execution_count": 193,
   "metadata": {},
   "outputs": [
    {
     "data": {
      "text/plain": [
       "(1536, 2561, 3)"
      ]
     },
     "execution_count": 193,
     "metadata": {},
     "output_type": "execute_result"
    }
   ],
   "source": [
    "image.shape"
   ]
  },
  {
   "cell_type": "code",
   "execution_count": 17,
   "metadata": {},
   "outputs": [],
   "source": [
    "    try:\n",
    "        os.mkdir('preprocessed_1')\n",
    "    except:\n",
    "        pass"
   ]
  },
  {
   "cell_type": "code",
   "execution_count": 18,
   "metadata": {},
   "outputs": [],
   "source": [
    "def crop_img(number_picture:int, constellation_name:str):\n",
    "    try:\n",
    "        os.mkdir(f'preprocessed_1/{constellation_name}')\n",
    "    except:\n",
    "        pass\n",
    "    y1=70\n",
    "    y2=75\n",
    "    x=0\n",
    "    w=2561\n",
    "    h=1536\n",
    "    for x in range(0,number_picture,1):\n",
    "        image = cv2.imread(f'./constellations/{constellation_name}/{constellation_name}{x}.png')\n",
    "        crop = image[y1:-y2+h, x:x+w]\n",
    "        cv2.imwrite(f'./preprocessed_1/{constellation_name}/{constellation_name}{x}.png',crop)"
   ]
  },
  {
   "cell_type": "code",
   "execution_count": 196,
   "metadata": {},
   "outputs": [],
   "source": [
    "crop_img(46, \"leo\")"
   ]
  },
  {
   "cell_type": "code",
   "execution_count": 19,
   "metadata": {},
   "outputs": [],
   "source": [
    "crop_img(46, \"orion\")"
   ]
  },
  {
   "attachments": {},
   "cell_type": "markdown",
   "metadata": {},
   "source": [
    "### Informations sur les coordonnées choisis pour rogner les images   \n",
    "   \n",
    "y1 représente la valeur comprise entre la valeur maximale de l'axe x,y et la nouvelle valeur maximale de l'axe x,y.    \n",
    "y1 permet de rogner la hauteur haute de l'image.\n",
    "   \n",
    "y2 représente la valeur qui se situe entre l'origine de l'axe x,y et la valeur de la nouvelle origine de l'axe x,y.   \n",
    "y2 permet de rogner la hauteur basse de l'image.   \n",
    "   \n",
    "\n",
    "Pour connaitre les nouvelles valeurs souhaitées (y1 et y2), il a fallu ouvrir une image du dataset sous le logiciel Paint.  \n",
    "Une fois ouverte, il a fallu activer le quadrillage et utiliser l'échelle pour connaître le nombre de pixels compris entre les valeurs d'origines et les valeurs souhaitées.  \n",
    "Les images étant toutes de la même dimension, il a ensuite fallu généraliser un unique rognage pour toutes les images."
   ]
  },
  {
   "attachments": {},
   "cell_type": "markdown",
   "metadata": {},
   "source": [
    "## Suppression du texte"
   ]
  },
  {
   "cell_type": "code",
   "execution_count": 23,
   "metadata": {},
   "outputs": [],
   "source": [
    "    try:\n",
    "        os.mkdir('preprocessed_1')\n",
    "    except:\n",
    "        pass"
   ]
  },
  {
   "cell_type": "code",
   "execution_count": 24,
   "metadata": {},
   "outputs": [
    {
     "name": "stdout",
     "output_type": "stream",
     "text": [
      "Looking for C:\\Users\\vosco\\.keras-ocr\\craft_mlt_25k.h5\n",
      "Looking for C:\\Users\\vosco\\.keras-ocr\\crnn_kurapan.h5\n"
     ]
    }
   ],
   "source": [
    "def midpoint(x1, y1, x2, y2):\n",
    "    x_mid = int((x1 + x2)/2)\n",
    "    y_mid = int((y1 + y2)/2)\n",
    "    return (x_mid, y_mid)\n",
    "\n",
    "pipeline = keras_ocr.pipeline.Pipeline()\n",
    "\n",
    "def inpaint_text(pipeline, constellation_name:str, number_picture:int):\n",
    "    try:\n",
    "        os.mkdir(f'preprocessed_1/{constellation_name}')\n",
    "    except:\n",
    "        pass\n",
    "    # read image\n",
    "    for x in range(0,number_picture,1):\n",
    "        img = keras_ocr.tools.read(f'./preprocessed_1/{constellation_name}/{constellation_name}{x}.png')\n",
    "        # generate (word, box) tuples \n",
    "        prediction_groups = pipeline.recognize([img])\n",
    "        mask = np.zeros(img.shape[:2], dtype=\"uint8\")\n",
    "        for box in prediction_groups[0]:\n",
    "            x0, y0 = box[1][0]\n",
    "            x1, y1 = box[1][1] \n",
    "            x2, y2 = box[1][2]\n",
    "            x3, y3 = box[1][3] \n",
    "            \n",
    "            x_mid0, y_mid0 = midpoint(x1, y1, x2, y2)\n",
    "            x_mid1, y_mi1 = midpoint(x0, y0, x3, y3)\n",
    "            \n",
    "            thickness = int(math.sqrt( (x2 - x1)**2 + (y2 - y1)**2 ))\n",
    "            \n",
    "            cv2.line(mask, (x_mid0, y_mid0), (x_mid1, y_mi1), 255, thickness)\n",
    "            img = cv2.inpaint(img, mask, 7, cv2.INPAINT_NS)\n",
    "            img_resize = cv2.resize(img, dsize=(780,423))\n",
    "            cv2.imwrite(f'./preprocessed_1/{constellation_name}/{constellation_name}{x}.png',img_resize)"
   ]
  },
  {
   "cell_type": "code",
   "execution_count": 25,
   "metadata": {},
   "outputs": [
    {
     "name": "stdout",
     "output_type": "stream",
     "text": [
      "1/1 [==============================] - 3s 3s/step\n",
      "WARNING:tensorflow:5 out of the last 180 calls to <function Model.make_predict_function.<locals>.predict_function at 0x000001C22C3EA200> triggered tf.function retracing. Tracing is expensive and the excessive number of tracings could be due to (1) creating @tf.function repeatedly in a loop, (2) passing tensors with different shapes, (3) passing Python objects instead of tensors. For (1), please define your @tf.function outside of the loop. For (2), @tf.function has reduce_retracing=True option that can avoid unnecessary retracing. For (3), please refer to https://www.tensorflow.org/guide/function#controlling_retracing and https://www.tensorflow.org/api_docs/python/tf/function for  more details.\n",
      "1/1 [==============================] - 5s 5s/step\n",
      "1/1 [==============================] - 2s 2s/step\n",
      "1/1 [==============================] - 5s 5s/step\n",
      "1/1 [==============================] - 0s 296ms/step\n",
      "1/1 [==============================] - 5s 5s/step\n",
      "1/1 [==============================] - 0s 278ms/step\n",
      "1/1 [==============================] - 5s 5s/step\n",
      "1/1 [==============================] - 0s 267ms/step\n",
      "1/1 [==============================] - 5s 5s/step\n",
      "1/1 [==============================] - 0s 281ms/step\n",
      "1/1 [==============================] - 6s 6s/step\n",
      "1/1 [==============================] - 0s 275ms/step\n",
      "1/1 [==============================] - 6s 6s/step\n",
      "1/1 [==============================] - 0s 332ms/step\n",
      "1/1 [==============================] - 6s 6s/step\n",
      "1/1 [==============================] - 0s 256ms/step\n",
      "1/1 [==============================] - 6s 6s/step\n",
      "1/1 [==============================] - 0s 256ms/step\n",
      "1/1 [==============================] - 10s 10s/step\n",
      "1/1 [==============================] - 1s 520ms/step\n",
      "1/1 [==============================] - 11s 11s/step\n",
      "1/1 [==============================] - 1s 524ms/step\n",
      "1/1 [==============================] - 11s 11s/step\n",
      "1/1 [==============================] - 1s 516ms/step\n",
      "1/1 [==============================] - 11s 11s/step\n",
      "1/1 [==============================] - 1s 516ms/step\n",
      "1/1 [==============================] - 11s 11s/step\n",
      "1/1 [==============================] - 1s 516ms/step\n",
      "1/1 [==============================] - 11s 11s/step\n",
      "1/1 [==============================] - 0s 468ms/step\n",
      "1/1 [==============================] - 11s 11s/step\n",
      "1/1 [==============================] - 0s 445ms/step\n",
      "1/1 [==============================] - 11s 11s/step\n",
      "1/1 [==============================] - 0s 444ms/step\n",
      "1/1 [==============================] - 11s 11s/step\n",
      "1/1 [==============================] - 0s 400ms/step\n",
      "1/1 [==============================] - 11s 11s/step\n",
      "1/1 [==============================] - 0s 448ms/step\n",
      "1/1 [==============================] - 11s 11s/step\n",
      "1/1 [==============================] - 0s 436ms/step\n",
      "1/1 [==============================] - 11s 11s/step\n",
      "1/1 [==============================] - 0s 376ms/step\n",
      "1/1 [==============================] - 11s 11s/step\n",
      "1/1 [==============================] - 0s 359ms/step\n",
      "1/1 [==============================] - 11s 11s/step\n",
      "1/1 [==============================] - 0s 296ms/step\n",
      "1/1 [==============================] - 11s 11s/step\n",
      "1/1 [==============================] - 1s 512ms/step\n",
      "1/1 [==============================] - 11s 11s/step\n",
      "1/1 [==============================] - 0s 440ms/step\n",
      "1/1 [==============================] - 11s 11s/step\n",
      "1/1 [==============================] - 0s 396ms/step\n",
      "1/1 [==============================] - 11s 11s/step\n",
      "1/1 [==============================] - 1s 516ms/step\n",
      "1/1 [==============================] - 11s 11s/step\n",
      "1/1 [==============================] - 0s 388ms/step\n",
      "1/1 [==============================] - 11s 11s/step\n",
      "1/1 [==============================] - 0s 452ms/step\n",
      "1/1 [==============================] - 11s 11s/step\n",
      "1/1 [==============================] - 1s 536ms/step\n",
      "1/1 [==============================] - 11s 11s/step\n",
      "1/1 [==============================] - 1s 584ms/step\n",
      "1/1 [==============================] - 11s 11s/step\n",
      "1/1 [==============================] - 1s 604ms/step\n",
      "1/1 [==============================] - 11s 11s/step\n",
      "1/1 [==============================] - 1s 592ms/step\n",
      "1/1 [==============================] - 11s 11s/step\n",
      "1/1 [==============================] - 1s 588ms/step\n",
      "1/1 [==============================] - 11s 11s/step\n",
      "1/1 [==============================] - 1s 517ms/step\n",
      "1/1 [==============================] - 11s 11s/step\n",
      "1/1 [==============================] - 0s 320ms/step\n",
      "1/1 [==============================] - 11s 11s/step\n",
      "1/1 [==============================] - 0s 305ms/step\n",
      "1/1 [==============================] - 11s 11s/step\n",
      "1/1 [==============================] - 0s 292ms/step\n",
      "1/1 [==============================] - 11s 11s/step\n",
      "1/1 [==============================] - 0s 352ms/step\n",
      "1/1 [==============================] - 11s 11s/step\n",
      "1/1 [==============================] - 0s 388ms/step\n",
      "1/1 [==============================] - 11s 11s/step\n",
      "1/1 [==============================] - 0s 444ms/step\n",
      "1/1 [==============================] - 11s 11s/step\n",
      "1/1 [==============================] - 0s 360ms/step\n",
      "1/1 [==============================] - 11s 11s/step\n",
      "1/1 [==============================] - 0s 436ms/step\n",
      "1/1 [==============================] - 11s 11s/step\n",
      "1/1 [==============================] - 1s 540ms/step\n",
      "1/1 [==============================] - 11s 11s/step\n",
      "1/1 [==============================] - 0s 444ms/step\n"
     ]
    }
   ],
   "source": [
    "inpaint_text(pipeline, 'leo', 46)"
   ]
  },
  {
   "cell_type": "code",
   "execution_count": 26,
   "metadata": {},
   "outputs": [
    {
     "name": "stdout",
     "output_type": "stream",
     "text": [
      "1/1 [==============================] - 11s 11s/step\n",
      "1/1 [==============================] - 1s 1s/step\n",
      "1/1 [==============================] - 10s 10s/step\n",
      "1/1 [==============================] - 1s 964ms/step\n",
      "1/1 [==============================] - 10s 10s/step\n",
      "1/1 [==============================] - 1s 1s/step\n",
      "1/1 [==============================] - 11s 11s/step\n",
      "1/1 [==============================] - 1s 1s/step\n",
      "1/1 [==============================] - 10s 10s/step\n",
      "1/1 [==============================] - 1s 968ms/step\n",
      "1/1 [==============================] - 10s 10s/step\n",
      "1/1 [==============================] - 1s 1s/step\n",
      "1/1 [==============================] - 10s 10s/step\n",
      "1/1 [==============================] - 1s 1s/step\n",
      "1/1 [==============================] - 10s 10s/step\n",
      "1/1 [==============================] - 1s 1s/step\n",
      "1/1 [==============================] - 10s 10s/step\n",
      "1/1 [==============================] - 1s 1s/step\n",
      "1/1 [==============================] - 10s 10s/step\n",
      "1/1 [==============================] - 1s 1s/step\n",
      "1/1 [==============================] - 10s 10s/step\n",
      "1/1 [==============================] - 1s 1s/step\n",
      "1/1 [==============================] - 10s 10s/step\n",
      "1/1 [==============================] - 1s 1s/step\n",
      "1/1 [==============================] - 10s 10s/step\n",
      "1/1 [==============================] - 1s 1s/step\n",
      "1/1 [==============================] - 10s 10s/step\n",
      "1/1 [==============================] - 1s 1s/step\n",
      "1/1 [==============================] - 10s 10s/step\n",
      "1/1 [==============================] - 1s 1s/step\n",
      "1/1 [==============================] - 10s 10s/step\n",
      "1/1 [==============================] - 1s 1s/step\n",
      "1/1 [==============================] - 10s 10s/step\n",
      "1/1 [==============================] - 1s 1s/step\n",
      "1/1 [==============================] - 10s 10s/step\n",
      "1/1 [==============================] - 1s 1s/step\n",
      "1/1 [==============================] - 10s 10s/step\n",
      "1/1 [==============================] - 1s 1s/step\n",
      "1/1 [==============================] - 10s 10s/step\n",
      "1/1 [==============================] - 1s 1s/step\n",
      "1/1 [==============================] - 10s 10s/step\n",
      "1/1 [==============================] - 1s 1s/step\n",
      "1/1 [==============================] - 10s 10s/step\n",
      "1/1 [==============================] - 1s 1s/step\n",
      "1/1 [==============================] - 11s 11s/step\n",
      "1/1 [==============================] - 1s 1s/step\n",
      "1/1 [==============================] - 10s 10s/step\n",
      "1/1 [==============================] - 1s 1s/step\n",
      "1/1 [==============================] - 10s 10s/step\n",
      "1/1 [==============================] - 1s 1s/step\n",
      "1/1 [==============================] - 10s 10s/step\n",
      "1/1 [==============================] - 1s 1s/step\n",
      "1/1 [==============================] - 10s 10s/step\n",
      "1/1 [==============================] - 1s 1s/step\n",
      "1/1 [==============================] - 10s 10s/step\n",
      "1/1 [==============================] - 1s 1s/step\n",
      "1/1 [==============================] - 11s 11s/step\n",
      "1/1 [==============================] - 1s 1s/step\n",
      "1/1 [==============================] - 10s 10s/step\n",
      "1/1 [==============================] - 1s 1s/step\n",
      "1/1 [==============================] - 10s 10s/step\n",
      "1/1 [==============================] - 1s 1s/step\n",
      "1/1 [==============================] - 10s 10s/step\n",
      "1/1 [==============================] - 1s 1s/step\n",
      "1/1 [==============================] - 10s 10s/step\n",
      "1/1 [==============================] - 1s 1s/step\n",
      "1/1 [==============================] - 10s 10s/step\n",
      "1/1 [==============================] - 1s 1s/step\n",
      "1/1 [==============================] - 10s 10s/step\n",
      "1/1 [==============================] - 1s 1s/step\n",
      "1/1 [==============================] - 10s 10s/step\n",
      "1/1 [==============================] - 1s 1s/step\n",
      "1/1 [==============================] - 10s 10s/step\n",
      "1/1 [==============================] - 1s 1s/step\n",
      "1/1 [==============================] - 10s 10s/step\n",
      "1/1 [==============================] - 1s 1s/step\n",
      "1/1 [==============================] - 10s 10s/step\n",
      "1/1 [==============================] - 1s 1s/step\n",
      "1/1 [==============================] - 10s 10s/step\n",
      "1/1 [==============================] - 1s 959ms/step\n",
      "1/1 [==============================] - 10s 10s/step\n",
      "1/1 [==============================] - 1s 969ms/step\n",
      "1/1 [==============================] - 10s 10s/step\n",
      "1/1 [==============================] - 1s 900ms/step\n",
      "1/1 [==============================] - 11s 11s/step\n",
      "1/1 [==============================] - 1s 760ms/step\n",
      "1/1 [==============================] - 11s 11s/step\n",
      "1/1 [==============================] - 1s 764ms/step\n",
      "1/1 [==============================] - 11s 11s/step\n",
      "1/1 [==============================] - 1s 772ms/step\n",
      "1/1 [==============================] - 11s 11s/step\n",
      "1/1 [==============================] - 1s 900ms/step\n"
     ]
    }
   ],
   "source": [
    "inpaint_text(pipeline, 'orion', 46)"
   ]
  },
  {
   "attachments": {},
   "cell_type": "markdown",
   "metadata": {},
   "source": [
    "J'ai essayé d'utiliser tesseract mais la librairie est compliquée à installer (setting de path non mentionné, fichiers manquants) et par manque de temps, je vais utiliser keras-ocr qui ne pose pas de problème lors de l'installation car appartenant au framework keras et qui possède un tuto permettant de supprimer des mots sur une image."
   ]
  }
 ],
 "metadata": {
  "kernelspec": {
   "display_name": "image_manip",
   "language": "python",
   "name": "python3"
  },
  "language_info": {
   "codemirror_mode": {
    "name": "ipython",
    "version": 3
   },
   "file_extension": ".py",
   "mimetype": "text/x-python",
   "name": "python",
   "nbconvert_exporter": "python",
   "pygments_lexer": "ipython3",
   "version": "3.11.3"
  },
  "orig_nbformat": 4
 },
 "nbformat": 4,
 "nbformat_minor": 2
}
